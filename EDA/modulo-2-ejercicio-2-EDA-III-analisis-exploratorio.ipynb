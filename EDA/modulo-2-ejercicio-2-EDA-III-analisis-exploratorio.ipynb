{
 "cells": [
  {
   "cell_type": "markdown",
   "metadata": {},
   "source": [
    ">Objetivos\n",
    "En el ejercicio de hoy tendremos que contestar a las siguientes preguntas:\n",
    "📌 Nota Como siempre, después de cada gráfica incluid una pequeña explicación de lo que nos está mostrando la gráfica.\n",
    "Estableced el tamaño de las figuras al inicio de vuestro jupyter para que todas tengan las mismas dimensiones.\n",
    "Manos a la obra con los plots, estos irán muy dirigidos hacia las preguntas que queremos contestar, para hacer una primera aproximación a nuestras hipótesis:\n",
    "\n"
   ]
  },
  {
   "cell_type": "code",
   "execution_count": 1,
   "metadata": {},
   "outputs": [],
   "source": [
    "\n",
    "import pandas as pd\n",
    "import numpy as np\n",
    "import seaborn as sns\n",
    "import matplotlib.pyplot as plt\n",
    "import sidetable \n",
    "\n",
    "# establecer el tamaño nuestras figuras\n",
    "plt.rcParams[\"figure.figsize\"] = (10,8)\n",
    "\n",
    "# en esta lección nos van a salir muchos warning al hacer las gráficas. Para evitar que nos salgan todo el rato podemos ejecutar las siguientes lineas de código\n",
    "import warnings\n",
    "warnings.filterwarnings('ignore')\n",
    "\n",
    "df = pd.read_csv(\"../Datos/attacks_limpieza_II.csv\", index_col = 0)\n"
   ]
  },
  {
   "cell_type": "markdown",
   "metadata": {},
   "source": [
    ">¿Cuántos ataques hubo por pais? ¿Se puede ver algo claro si ploteamos todos los paises? En caso de que no, seleccionad solo los 10 paises con más ataques y volved a hacer el plot."
   ]
  },
  {
   "cell_type": "code",
   "execution_count": 14,
   "metadata": {},
   "outputs": [
    {
     "data": {
      "text/html": [
       "<div>\n",
       "<style scoped>\n",
       "    .dataframe tbody tr th:only-of-type {\n",
       "        vertical-align: middle;\n",
       "    }\n",
       "\n",
       "    .dataframe tbody tr th {\n",
       "        vertical-align: top;\n",
       "    }\n",
       "\n",
       "    .dataframe thead th {\n",
       "        text-align: right;\n",
       "    }\n",
       "</style>\n",
       "<table border=\"1\" class=\"dataframe\">\n",
       "  <thead>\n",
       "    <tr style=\"text-align: right;\">\n",
       "      <th></th>\n",
       "      <th>type</th>\n",
       "      <th>country</th>\n",
       "      <th>area</th>\n",
       "      <th>location</th>\n",
       "      <th>activity</th>\n",
       "      <th>name</th>\n",
       "      <th>time</th>\n",
       "      <th>species</th>\n",
       "      <th>siglo</th>\n",
       "      <th>species_</th>\n",
       "      <th>injury</th>\n",
       "      <th>mes</th>\n",
       "      <th>fatal_bien</th>\n",
       "      <th>genero_bien</th>\n",
       "      <th>categorias_tiburones</th>\n",
       "    </tr>\n",
       "    <tr>\n",
       "      <th>case_number</th>\n",
       "      <th></th>\n",
       "      <th></th>\n",
       "      <th></th>\n",
       "      <th></th>\n",
       "      <th></th>\n",
       "      <th></th>\n",
       "      <th></th>\n",
       "      <th></th>\n",
       "      <th></th>\n",
       "      <th></th>\n",
       "      <th></th>\n",
       "      <th></th>\n",
       "      <th></th>\n",
       "      <th></th>\n",
       "      <th></th>\n",
       "    </tr>\n",
       "  </thead>\n",
       "  <tbody>\n",
       "    <tr>\n",
       "      <th>2018.06.25</th>\n",
       "      <td>Boating</td>\n",
       "      <td>usa</td>\n",
       "      <td>California</td>\n",
       "      <td>Oceanside, San Diego County</td>\n",
       "      <td>Paddling</td>\n",
       "      <td>Julie Wolfe</td>\n",
       "      <td>18h00</td>\n",
       "      <td>White shark</td>\n",
       "      <td>siglo - XXI</td>\n",
       "      <td>NaN</td>\n",
       "      <td>No injury to occupant, outrigger canoe and pad...</td>\n",
       "      <td>Jun</td>\n",
       "      <td>N</td>\n",
       "      <td>F</td>\n",
       "      <td>White</td>\n",
       "    </tr>\n",
       "    <tr>\n",
       "      <th>2018.06.03.a</th>\n",
       "      <td>Unprovoked</td>\n",
       "      <td>brazil</td>\n",
       "      <td>Pernambuco</td>\n",
       "      <td>Piedade Beach, Recife</td>\n",
       "      <td>Swimming</td>\n",
       "      <td>Jose Ernesto da Silva</td>\n",
       "      <td>Late afternoon</td>\n",
       "      <td>Tiger shark</td>\n",
       "      <td>siglo - XXI</td>\n",
       "      <td>NaN</td>\n",
       "      <td>FATAL</td>\n",
       "      <td>Jun</td>\n",
       "      <td>Y</td>\n",
       "      <td>M</td>\n",
       "      <td>Tiger</td>\n",
       "    </tr>\n",
       "  </tbody>\n",
       "</table>\n",
       "</div>"
      ],
      "text/plain": [
       "                    type country        area                     location  \\\n",
       "case_number                                                                 \n",
       "2018.06.25       Boating     usa  California  Oceanside, San Diego County   \n",
       "2018.06.03.a  Unprovoked  brazil  Pernambuco        Piedade Beach, Recife   \n",
       "\n",
       "              activity                    name            time      species  \\\n",
       "case_number                                                                   \n",
       "2018.06.25    Paddling             Julie Wolfe           18h00  White shark   \n",
       "2018.06.03.a  Swimming  Jose Ernesto da Silva   Late afternoon  Tiger shark   \n",
       "\n",
       "                    siglo species_  \\\n",
       "case_number                          \n",
       "2018.06.25    siglo - XXI      NaN   \n",
       "2018.06.03.a  siglo - XXI      NaN   \n",
       "\n",
       "                                                         injury  mes  \\\n",
       "case_number                                                            \n",
       "2018.06.25    No injury to occupant, outrigger canoe and pad...  Jun   \n",
       "2018.06.03.a                                              FATAL  Jun   \n",
       "\n",
       "             fatal_bien genero_bien categorias_tiburones  \n",
       "case_number                                               \n",
       "2018.06.25            N           F                White  \n",
       "2018.06.03.a          Y           M                Tiger  "
      ]
     },
     "execution_count": 14,
     "metadata": {},
     "output_type": "execute_result"
    }
   ],
   "source": [
    "categoricas = df.select_dtypes(include = \"object\")\n",
    "categoricas.head(2)"
   ]
  },
  {
   "cell_type": "code",
   "execution_count": 15,
   "metadata": {},
   "outputs": [
    {
     "data": {
      "text/html": [
       "<div>\n",
       "<style scoped>\n",
       "    .dataframe tbody tr th:only-of-type {\n",
       "        vertical-align: middle;\n",
       "    }\n",
       "\n",
       "    .dataframe tbody tr th {\n",
       "        vertical-align: top;\n",
       "    }\n",
       "\n",
       "    .dataframe thead th {\n",
       "        text-align: right;\n",
       "    }\n",
       "</style>\n",
       "<table border=\"1\" class=\"dataframe\">\n",
       "  <thead>\n",
       "    <tr style=\"text-align: right;\">\n",
       "      <th></th>\n",
       "      <th>year</th>\n",
       "      <th>edades</th>\n",
       "    </tr>\n",
       "    <tr>\n",
       "      <th>case_number</th>\n",
       "      <th></th>\n",
       "      <th></th>\n",
       "    </tr>\n",
       "  </thead>\n",
       "  <tbody>\n",
       "    <tr>\n",
       "      <th>2018.06.25</th>\n",
       "      <td>2018</td>\n",
       "      <td>57.0</td>\n",
       "    </tr>\n",
       "    <tr>\n",
       "      <th>2018.06.03.a</th>\n",
       "      <td>2018</td>\n",
       "      <td>18.0</td>\n",
       "    </tr>\n",
       "  </tbody>\n",
       "</table>\n",
       "</div>"
      ],
      "text/plain": [
       "              year  edades\n",
       "case_number               \n",
       "2018.06.25    2018    57.0\n",
       "2018.06.03.a  2018    18.0"
      ]
     },
     "execution_count": 15,
     "metadata": {},
     "output_type": "execute_result"
    }
   ],
   "source": [
    "numericas = df.select_dtypes(include = np.number)\n",
    "numericas.head(2)"
   ]
  },
  {
   "cell_type": "code",
   "execution_count": 80,
   "metadata": {},
   "outputs": [
    {
     "data": {
      "image/png": "[encoded data removed]",
      "text/plain": [
       "<Figure size 432x288 with 1 Axes>"
      ]
     },
     "metadata": {
      "needs_background": "light"
     },
     "output_type": "display_data"
    }
   ],
   "source": [
    "sns.countplot(data=df,x='country') #no se alcanzan a identificar, por lo que ordenaremos para que solo sean visibles 10 países\n",
    "plt.xticks(rotation=60);"
   ]
  },
  {
   "cell_type": "code",
   "execution_count": 78,
   "metadata": {},
   "outputs": [
    {
     "data": {
      "image/png": "[encoded data removed]",
      "text/plain": [
       "<Figure size 432x288 with 1 Axes>"
      ]
     },
     "metadata": {
      "needs_background": "light"
     },
     "output_type": "display_data"
    }
   ],
   "source": [
    "\n",
    "sns.countplot(data=df,x='country',order=df['country'].value_counts().iloc[:10].index)\n",
    "plt.xticks(rotation=60);"
   ]
  },
  {
   "cell_type": "code",
   "execution_count": 88,
   "metadata": {},
   "outputs": [
    {
     "data": {
      "text/plain": [
       "usa                 741\n",
       "australia           343\n",
       "south africa        234\n",
       "bahamas              29\n",
       "new zealand          21\n",
       "reunion              17\n",
       "brazil               16\n",
       "papua new guinea     16\n",
       "mexico               15\n",
       "italy                11\n",
       "Name: country, dtype: int64"
      ]
     },
     "execution_count": 88,
     "metadata": {},
     "output_type": "execute_result"
    }
   ],
   "source": [
    "paises_10=df['country'].value_counts().iloc[:10]\n",
    "paises_10"
   ]
  },
  {
   "cell_type": "code",
   "execution_count": 109,
   "metadata": {},
   "outputs": [
    {
     "data": {
      "text/plain": [
       "country         genero_bien\n",
       "american samoa  M                2\n",
       "argentina       M                1\n",
       "asia?           M                1\n",
       "australia       M              305\n",
       "                F               38\n",
       "                              ... \n",
       "vanuatu         M                2\n",
       "venezuela       M                3\n",
       "                F                1\n",
       "vietnam         F                3\n",
       "                M                2\n",
       "Name: genero_bien, Length: 129, dtype: int64"
      ]
     },
     "execution_count": 109,
     "metadata": {},
     "output_type": "execute_result"
    }
   ],
   "source": [
    "paises_genero=df.groupby('country')['genero_bien'].value_counts()\n",
    "paises_genero"
   ]
  },
  {
   "cell_type": "markdown",
   "metadata": {},
   "source": [
    ">Usando el DataFrame de los 10 paises con más ataques, ¿hay diferencias entre sexos en esos paises?"
   ]
  },
  {
   "cell_type": "markdown",
   "metadata": {},
   "source": [
    ">¿Qué edad recibe mayor número de ataques? 💡 Pista 💡 Para que esta gráfica nos salga legible tendremos que crear antes grupos de edad. Para hacer esto de una forma sencilla tenemos el método pd.cut() que aprendimos en la lección de Limpieza II."
   ]
  },
  {
   "cell_type": "markdown",
   "metadata": {},
   "source": [
    ">Ataques entre sexos, ¿hay diferencia?"
   ]
  },
  {
   "cell_type": "markdown",
   "metadata": {},
   "source": [
    ">¿Cuando ocurren más ataques? ¿Os sale algo raro en la gráfica? Intentad limpiar un poco los datos para que os salga mejor.\n",
    "Podríamos hacer más gráficas para seguir explorando nuestras hipótesis, pero tenemos el tiempo limitado 😢. Aún así, sentiros libres de explorar todo lo que queráis vuestros datos para entenderlos mejor 😉."
   ]
  }
 ],
 "metadata": {
  "kernelspec": {
   "display_name": "Python 3.9.7 ('base')",
   "language": "python",
   "name": "python3"
  },
  "language_info": {
   "codemirror_mode": {
    "name": "ipython",
    "version": 3
   },
   "file_extension": ".py",
   "mimetype": "text/x-python",
   "name": "python",
   "nbconvert_exporter": "python",
   "pygments_lexer": "ipython3",
   "version": "3.9.13"
  },
  "orig_nbformat": 4,
  "vscode": {
   "interpreter": {
    "hash": "bab9de067d915f107d1ee2ee6fc66eaa4419a4d622bcbfdabd1c6ae75445c121"
   }
  }
 },
 "nbformat": 4,
 "nbformat_minor": 2
}
