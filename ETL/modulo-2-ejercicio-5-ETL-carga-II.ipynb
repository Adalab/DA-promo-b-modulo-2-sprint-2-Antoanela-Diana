{
 "cells": [
  {
   "cell_type": "markdown",
   "metadata": {},
   "source": [
    "Igual que en el ejercicio de pair programming de ETL Transformación II, tendréis que crear una clase que nos permita cargar los datos en SQL I"
   ]
  },
  {
   "cell_type": "code",
   "execution_count": 2,
   "metadata": {},
   "outputs": [],
   "source": [
    "from IPython.core.interactiveshell import InteractiveShell # Nos permite mostar más de una salida por celda\n",
    "InteractiveShell.ast_node_interactivity = \"all\" # Nos permite mostar más de una salida por celda\n",
    "\n",
    "import requests\n",
    "import pandas as pd\n",
    "import numpy as np\n",
    "import pandas as pd\n",
    "import mysql.connector\n",
    "pd.options.display.max_columns=None\n",
    "\n",
    "df= pd.read_csv('../Datos/datos_union_clima_ataques.csv', index_col=0)\n"
   ]
  },
  {
   "cell_type": "code",
   "execution_count": 3,
   "metadata": {},
   "outputs": [],
   "source": [
    "class Crear_bbdd_tablas:\n",
    "    #definimos los atributos\n",
    "    \n",
    "    def __init__(self, nombre_bbdd, contraseña):\n",
    "        self.nombre_bdd= nombre_bbdd\n",
    "        self.contraseña= contraseña\n",
    "        \n",
    "    \n",
    "    def crear_bbdd(self):\n",
    "\n",
    "        mydb = mysql.connector.connect(\n",
    "        host='127.0.0.1',\n",
    "        user=\"root\",\n",
    "        password=f'{self.contraseña}'\n",
    "        )\n",
    "        print(\"Conexión realizada con éxito\")\n",
    "        \n",
    "        mycursor = mydb.cursor()\n",
    "\n",
    "        try:\n",
    "            mycursor.execute(f\"CREATE DATABASE IF NOT EXISTS {self.nombre_bbdd};\")\n",
    "            print(mycursor)\n",
    "        except mysql.connector.Error as err:\n",
    "            print(err)\n",
    "            print(\"Error Code:\", err.errno)\n",
    "            print(\"SQLSTATE\", err.sqlstate)\n",
    "            print(\"Message\", err.msg)\n",
    "\n",
    "\n",
    "\n",
    "    def crear_insertar_tabla(self, query):\n",
    "        \n",
    "        # nos conectamsos con el servidor usando el conector de sql\n",
    "        cnx = mysql.connector.connect(user='root', password=f\"{self.contraseña}\",\n",
    "                                        host='127.0.0.1', database=f\"{self.nombre_bbdd}\")\n",
    "        # iniciamos el cursor\n",
    "        mycursor = cnx.cursor()\n",
    "        \n",
    "        # intentamos hacer la query\n",
    "        try: \n",
    "            mycursor.execute(query)\n",
    "            cnx.commit() \n",
    "        # en caso de que podamos ejecutar la query devuelvenos un error para saber en que nos estamos equivocando\n",
    "        except mysql.connector.Error as err:\n",
    "            print(err)\n",
    "            print(\"Error Code:\", err.errno)\n",
    "            print(\"SQLSTATE\", err.sqlstate)\n",
    "            print(\"Message\", err.msg)\n",
    "            "
   ]
  },
  {
   "cell_type": "code",
   "execution_count": 6,
   "metadata": {},
   "outputs": [],
   "source": [
    "contraseña = 'anto'"
   ]
  },
  {
   "cell_type": "code",
   "execution_count": 7,
   "metadata": {},
   "outputs": [],
   "source": [
    "a=Crear_bbdd_tablas('gatos', contraseña)"
   ]
  },
  {
   "cell_type": "code",
   "execution_count": 23,
   "metadata": {},
   "outputs": [
    {
     "ename": "TypeError",
     "evalue": "crear_bbdd() takes 1 positional argument but 2 were given",
     "output_type": "error",
     "traceback": [
      "\u001b[0;31m---------------------------------------------------------------------------\u001b[0m",
      "\u001b[0;31mTypeError\u001b[0m                                 Traceback (most recent call last)",
      "\u001b[1;32m/Users/feliciano/Documents/Adalab/ejercicios-de-adalab/modulo 2/antoanela/DA-promo-b-modulo-2-sprint-2-Antoanela-Diana/ETL/modulo-2-ejercicio-5-ETL-carga-II.ipynb Celda 4\u001b[0m in \u001b[0;36m<cell line: 2>\u001b[0;34m()\u001b[0m\n\u001b[1;32m      <a href='vscode-notebook-cell:/Users/feliciano/Documents/Adalab/ejercicios-de-adalab/modulo%202/antoanela/DA-promo-b-modulo-2-sprint-2-Antoanela-Diana/ETL/modulo-2-ejercicio-5-ETL-carga-II.ipynb#W4sZmlsZQ%3D%3D?line=0'>1</a>\u001b[0m a\u001b[39m=\u001b[39mCrear_bbdd_tablas(\u001b[39m'\u001b[39m\u001b[39mgatos\u001b[39m\u001b[39m'\u001b[39m, \u001b[39m'\u001b[39m\u001b[39mAlumnaAdalab\u001b[39m\u001b[39m'\u001b[39m)\n\u001b[0;32m----> <a href='vscode-notebook-cell:/Users/feliciano/Documents/Adalab/ejercicios-de-adalab/modulo%202/antoanela/DA-promo-b-modulo-2-sprint-2-Antoanela-Diana/ETL/modulo-2-ejercicio-5-ETL-carga-II.ipynb#W4sZmlsZQ%3D%3D?line=1'>2</a>\u001b[0m a\u001b[39m.\u001b[39;49mcrear_bbdd(\u001b[39m'\u001b[39;49m\u001b[39mgatos\u001b[39;49m\u001b[39m'\u001b[39;49m)\n",
      "\u001b[0;31mTypeError\u001b[0m: crear_bbdd() takes 1 positional argument but 2 were given"
     ]
    }
   ],
   "source": [
    "\n",
    "a.crear_bbdd()"
   ]
  },
  {
   "cell_type": "code",
   "execution_count": null,
   "metadata": {},
   "outputs": [],
   "source": []
  }
 ],
 "metadata": {
  "kernelspec": {
   "display_name": "Python 3.9.7 ('base')",
   "language": "python",
   "name": "python3"
  },
  "language_info": {
   "codemirror_mode": {
    "name": "ipython",
    "version": 3
   },
   "file_extension": ".py",
   "mimetype": "text/x-python",
   "name": "python",
   "nbconvert_exporter": "python",
   "pygments_lexer": "ipython3",
   "version": "3.9.7"
  },
  "orig_nbformat": 4,
  "vscode": {
   "interpreter": {
    "hash": "e52e54b208979dc3580fb1371da7079de391a2363b0575de5d9739fd636c0787"
   }
  }
 },
 "nbformat": 4,
 "nbformat_minor": 2
}
