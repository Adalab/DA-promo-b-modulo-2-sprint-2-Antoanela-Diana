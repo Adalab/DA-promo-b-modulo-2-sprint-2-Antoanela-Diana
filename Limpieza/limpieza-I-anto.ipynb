{
 "cells": [
  {
   "cell_type": "markdown",
   "metadata": {},
   "source": [
    "`PAIR PROGRAMMING LIMPIEZA I`"
   ]
  },
  {
   "cell_type": "markdown",
   "metadata": {},
   "source": [
    "Antes de seguir, recordamos las preguntas que nos planteamos al principio del pair programming de EDA para dirigir nuestro análisis.\n",
    "¿Es Australia es el sitio más peligroso y letal para estar relajada en la playa?\n",
    "¿Cuál es el rango de edad que sufre la mayoría de los ataques?\n",
    "Independientemente de la edad, sufren los hombres más ataques que las mujeres?\n",
    "¿En qué mes ocurren más ataques?\n",
    "¿Cuál es la relación entre la especie y el tipo de ataque (si es fatal o no)?\n",
    "¿Cómo han evolucionado los ataques a lo largo del tiempo?\n",
    "De todo esto, nos damos cuenta que solo tenemos que limpiar algunas de las columnas, en concreto age, species, country, fatal, year, sex. Si reducimos esto a una tabla para saber que tenemos ya limpito y que no:\n"
   ]
  },
  {
   "cell_type": "code",
   "execution_count": 1,
   "metadata": {},
   "outputs": [],
   "source": [
    "#Importing the libraries that we will be using in this notebook.\n",
    "import pandas as pd\n",
    "import numpy as np\n",
    "import matplotlib.pyplot as plt\n",
    "import seaborn as sns\n",
    "import re\n",
    "import datetime"
   ]
  },
  {
   "cell_type": "code",
   "execution_count": 2,
   "metadata": {},
   "outputs": [
    {
     "data": {
      "text/html": [
       "<div>\n",
       "<style scoped>\n",
       "    .dataframe tbody tr th:only-of-type {\n",
       "        vertical-align: middle;\n",
       "    }\n",
       "\n",
       "    .dataframe tbody tr th {\n",
       "        vertical-align: top;\n",
       "    }\n",
       "\n",
       "    .dataframe thead th {\n",
       "        text-align: right;\n",
       "    }\n",
       "</style>\n",
       "<table border=\"1\" class=\"dataframe\">\n",
       "  <thead>\n",
       "    <tr style=\"text-align: right;\">\n",
       "      <th></th>\n",
       "      <th>Case Number</th>\n",
       "      <th>Year</th>\n",
       "      <th>Type</th>\n",
       "      <th>Country</th>\n",
       "      <th>Area</th>\n",
       "      <th>Location</th>\n",
       "      <th>Activity</th>\n",
       "      <th>Name</th>\n",
       "      <th>Age</th>\n",
       "      <th>Time</th>\n",
       "      <th>...</th>\n",
       "      <th>Siglo</th>\n",
       "      <th>Unnamed: 0_x</th>\n",
       "      <th>Sex</th>\n",
       "      <th>Species</th>\n",
       "      <th>href</th>\n",
       "      <th>Unnamed: 0_y</th>\n",
       "      <th>Injury</th>\n",
       "      <th>Mes</th>\n",
       "      <th>fatal_bien</th>\n",
       "      <th>genero_bien</th>\n",
       "    </tr>\n",
       "  </thead>\n",
       "  <tbody>\n",
       "    <tr>\n",
       "      <th>0</th>\n",
       "      <td>2018.06.25</td>\n",
       "      <td>2018.0</td>\n",
       "      <td>Boating</td>\n",
       "      <td>USA</td>\n",
       "      <td>California</td>\n",
       "      <td>Oceanside, San Diego County</td>\n",
       "      <td>Paddling</td>\n",
       "      <td>Julie Wolfe</td>\n",
       "      <td>57</td>\n",
       "      <td>18h00</td>\n",
       "      <td>...</td>\n",
       "      <td>siglo - XXI</td>\n",
       "      <td>NaN</td>\n",
       "      <td>NaN</td>\n",
       "      <td>NaN</td>\n",
       "      <td>NaN</td>\n",
       "      <td>0</td>\n",
       "      <td>No injury to occupant, outrigger canoe and pad...</td>\n",
       "      <td>Jun</td>\n",
       "      <td>N</td>\n",
       "      <td>F</td>\n",
       "    </tr>\n",
       "    <tr>\n",
       "      <th>1</th>\n",
       "      <td>2018.06.03.a</td>\n",
       "      <td>2018.0</td>\n",
       "      <td>Unprovoked</td>\n",
       "      <td>BRAZIL</td>\n",
       "      <td>Pernambuco</td>\n",
       "      <td>Piedade Beach, Recife</td>\n",
       "      <td>Swimming</td>\n",
       "      <td>Jose Ernesto da Silva</td>\n",
       "      <td>18</td>\n",
       "      <td>Late afternoon</td>\n",
       "      <td>...</td>\n",
       "      <td>siglo - XXI</td>\n",
       "      <td>NaN</td>\n",
       "      <td>NaN</td>\n",
       "      <td>NaN</td>\n",
       "      <td>NaN</td>\n",
       "      <td>6</td>\n",
       "      <td>FATAL</td>\n",
       "      <td>Jun</td>\n",
       "      <td>Y</td>\n",
       "      <td>M</td>\n",
       "    </tr>\n",
       "  </tbody>\n",
       "</table>\n",
       "<p>2 rows × 22 columns</p>\n",
       "</div>"
      ],
      "text/plain": [
       "    Case Number    Year        Type Country        Area  \\\n",
       "0    2018.06.25  2018.0     Boating     USA  California   \n",
       "1  2018.06.03.a  2018.0  Unprovoked  BRAZIL  Pernambuco   \n",
       "\n",
       "                      Location  Activity                    Name Age  \\\n",
       "0  Oceanside, San Diego County  Paddling             Julie Wolfe  57   \n",
       "1        Piedade Beach, Recife  Swimming  Jose Ernesto da Silva   18   \n",
       "\n",
       "             Time  ...        Siglo Unnamed: 0_x Sex   Species  href  \\\n",
       "0           18h00  ...  siglo - XXI          NaN  NaN       NaN  NaN   \n",
       "1  Late afternoon  ...  siglo - XXI          NaN  NaN       NaN  NaN   \n",
       "\n",
       "  Unnamed: 0_y                                             Injury  Mes  \\\n",
       "0            0  No injury to occupant, outrigger canoe and pad...  Jun   \n",
       "1            6                                              FATAL  Jun   \n",
       "\n",
       "  fatal_bien genero_bien  \n",
       "0          N           F  \n",
       "1          Y           M  \n",
       "\n",
       "[2 rows x 22 columns]"
      ]
     },
     "execution_count": 2,
     "metadata": {},
     "output_type": "execute_result"
    }
   ],
   "source": [
    "#Reading the csv file and showing the first two rows.\n",
    "df=pd.read_csv('../Datos/attacks_pandas7_copia.csv')\n",
    "df.head(2)"
   ]
  },
  {
   "cell_type": "markdown",
   "metadata": {},
   "source": [
    "\n",
    "\n",
    "Entre las tareas que tendréis que hacer hoy:\n",
    "\n",
    "1. Al empezar a trabajar con este dataframe ya eliminamos algunas columnas que a priori no nos interesaban. Ahora llega el momento de eliminar alguna columna más. En este caso vamos tendréis que eliminar las columnas que no nos sean útiles para contestar a nuestras preguntas. Pero ojo ⚠️, haced una copia del dataframe para no \"cargarnos\" el dataframe original y perder la info.\n"
   ]
  },
  {
   "cell_type": "code",
   "execution_count": 14,
   "metadata": {},
   "outputs": [
    {
     "data": {
      "text/plain": [
       "{'case_number': 'case_number',\n",
       " 'year': 'year',\n",
       " 'type': 'type',\n",
       " 'country': 'country',\n",
       " 'area': 'area',\n",
       " 'location': 'location',\n",
       " 'activity': 'activity',\n",
       " 'name': 'name',\n",
       " 'age': 'age',\n",
       " 'time': 'time',\n",
       " 'species': 'species',\n",
       " 'href': 'href',\n",
       " 'siglo': 'siglo',\n",
       " 'unnamed:_0_x': 'unnamed:_0_x',\n",
       " 'sex_': 'sex_',\n",
       " 'species_': 'species_',\n",
       " 'unnamed:_0_y': 'unnamed:_0_y',\n",
       " 'injury': 'injury',\n",
       " 'mes': 'mes',\n",
       " 'fatal_bien': 'fatal_bien',\n",
       " 'genero_bien': 'genero_bien'}"
      ]
     },
     "execution_count": 14,
     "metadata": {},
     "output_type": "execute_result"
    }
   ],
   "source": [
    "#Replacing the spaces in the column names with underscores and making the column names lowercase.\n",
    "nuevas_columnas = {col: col.replace(\" \", \"_\").lower() for col in df.columns}\n",
    "nuevas_columnas\n"
   ]
  },
  {
   "cell_type": "code",
   "execution_count": 15,
   "metadata": {},
   "outputs": [
    {
     "data": {
      "text/html": [
       "<div>\n",
       "<style scoped>\n",
       "    .dataframe tbody tr th:only-of-type {\n",
       "        vertical-align: middle;\n",
       "    }\n",
       "\n",
       "    .dataframe tbody tr th {\n",
       "        vertical-align: top;\n",
       "    }\n",
       "\n",
       "    .dataframe thead th {\n",
       "        text-align: right;\n",
       "    }\n",
       "</style>\n",
       "<table border=\"1\" class=\"dataframe\">\n",
       "  <thead>\n",
       "    <tr style=\"text-align: right;\">\n",
       "      <th></th>\n",
       "      <th>case_number</th>\n",
       "      <th>year</th>\n",
       "      <th>type</th>\n",
       "      <th>country</th>\n",
       "      <th>area</th>\n",
       "      <th>location</th>\n",
       "      <th>activity</th>\n",
       "      <th>name</th>\n",
       "      <th>age</th>\n",
       "      <th>time</th>\n",
       "      <th>...</th>\n",
       "      <th>siglo</th>\n",
       "      <th>unnamed:_0_x</th>\n",
       "      <th>sex_</th>\n",
       "      <th>species_</th>\n",
       "      <th>href</th>\n",
       "      <th>unnamed:_0_y</th>\n",
       "      <th>injury</th>\n",
       "      <th>mes</th>\n",
       "      <th>fatal_bien</th>\n",
       "      <th>genero_bien</th>\n",
       "    </tr>\n",
       "  </thead>\n",
       "  <tbody>\n",
       "    <tr>\n",
       "      <th>0</th>\n",
       "      <td>2018.06.25</td>\n",
       "      <td>2018.0</td>\n",
       "      <td>Boating</td>\n",
       "      <td>USA</td>\n",
       "      <td>California</td>\n",
       "      <td>Oceanside, San Diego County</td>\n",
       "      <td>Paddling</td>\n",
       "      <td>Julie Wolfe</td>\n",
       "      <td>57</td>\n",
       "      <td>18h00</td>\n",
       "      <td>...</td>\n",
       "      <td>siglo - XXI</td>\n",
       "      <td>NaN</td>\n",
       "      <td>NaN</td>\n",
       "      <td>NaN</td>\n",
       "      <td>NaN</td>\n",
       "      <td>0</td>\n",
       "      <td>No injury to occupant, outrigger canoe and pad...</td>\n",
       "      <td>Jun</td>\n",
       "      <td>N</td>\n",
       "      <td>F</td>\n",
       "    </tr>\n",
       "    <tr>\n",
       "      <th>1</th>\n",
       "      <td>2018.06.03.a</td>\n",
       "      <td>2018.0</td>\n",
       "      <td>Unprovoked</td>\n",
       "      <td>BRAZIL</td>\n",
       "      <td>Pernambuco</td>\n",
       "      <td>Piedade Beach, Recife</td>\n",
       "      <td>Swimming</td>\n",
       "      <td>Jose Ernesto da Silva</td>\n",
       "      <td>18</td>\n",
       "      <td>Late afternoon</td>\n",
       "      <td>...</td>\n",
       "      <td>siglo - XXI</td>\n",
       "      <td>NaN</td>\n",
       "      <td>NaN</td>\n",
       "      <td>NaN</td>\n",
       "      <td>NaN</td>\n",
       "      <td>6</td>\n",
       "      <td>FATAL</td>\n",
       "      <td>Jun</td>\n",
       "      <td>Y</td>\n",
       "      <td>M</td>\n",
       "    </tr>\n",
       "  </tbody>\n",
       "</table>\n",
       "<p>2 rows × 22 columns</p>\n",
       "</div>"
      ],
      "text/plain": [
       "    case_number    year        type country        area  \\\n",
       "0    2018.06.25  2018.0     Boating     USA  California   \n",
       "1  2018.06.03.a  2018.0  Unprovoked  BRAZIL  Pernambuco   \n",
       "\n",
       "                      location  activity                    name age  \\\n",
       "0  Oceanside, San Diego County  Paddling             Julie Wolfe  57   \n",
       "1        Piedade Beach, Recife  Swimming  Jose Ernesto da Silva   18   \n",
       "\n",
       "             time  ...        siglo unnamed:_0_x sex_  species_ href  \\\n",
       "0           18h00  ...  siglo - XXI          NaN  NaN       NaN  NaN   \n",
       "1  Late afternoon  ...  siglo - XXI          NaN  NaN       NaN  NaN   \n",
       "\n",
       "  unnamed:_0_y                                             injury  mes  \\\n",
       "0            0  No injury to occupant, outrigger canoe and pad...  Jun   \n",
       "1            6                                              FATAL  Jun   \n",
       "\n",
       "  fatal_bien genero_bien  \n",
       "0          N           F  \n",
       "1          Y           M  \n",
       "\n",
       "[2 rows x 22 columns]"
      ]
     },
     "execution_count": 15,
     "metadata": {},
     "output_type": "execute_result"
    }
   ],
   "source": [
    "df.rename(columns = nuevas_columnas, inplace = True)\n",
    "df.head(2)"
   ]
  },
  {
   "cell_type": "code",
   "execution_count": 5,
   "metadata": {},
   "outputs": [],
   "source": [
    "#Creating a copy of the dataframe df.\n",
    "df_copia = df.copy()"
   ]
  },
  {
   "cell_type": "code",
   "execution_count": 6,
   "metadata": {},
   "outputs": [
    {
     "data": {
      "text/plain": [
       "Index(['case_number', 'year', 'type', 'country', 'area', 'location',\n",
       "       'activity', 'name', 'age', 'time', 'species', 'href', 'siglo',\n",
       "       'unnamed:_0_x', 'sex_', 'species_', 'href', 'unnamed:_0_y', 'injury',\n",
       "       'mes', 'fatal_bien', 'genero_bien'],\n",
       "      dtype='object')"
      ]
     },
     "execution_count": 6,
     "metadata": {},
     "output_type": "execute_result"
    }
   ],
   "source": [
    "#Showing the columns of the dataframe.\n",
    "df_copia.columns"
   ]
  },
  {
   "cell_type": "code",
   "execution_count": 7,
   "metadata": {},
   "outputs": [],
   "source": [
    "#Creating a list of columns to be deleted.\n",
    "columnas_eliminar=['sex_','unnamed:_0_x','unnamed:_0_y','href']"
   ]
  },
  {
   "cell_type": "code",
   "execution_count": 8,
   "metadata": {},
   "outputs": [
    {
     "data": {
      "text/html": [
       "<div>\n",
       "<style scoped>\n",
       "    .dataframe tbody tr th:only-of-type {\n",
       "        vertical-align: middle;\n",
       "    }\n",
       "\n",
       "    .dataframe tbody tr th {\n",
       "        vertical-align: top;\n",
       "    }\n",
       "\n",
       "    .dataframe thead th {\n",
       "        text-align: right;\n",
       "    }\n",
       "</style>\n",
       "<table border=\"1\" class=\"dataframe\">\n",
       "  <thead>\n",
       "    <tr style=\"text-align: right;\">\n",
       "      <th></th>\n",
       "      <th>case_number</th>\n",
       "      <th>year</th>\n",
       "      <th>type</th>\n",
       "      <th>country</th>\n",
       "      <th>area</th>\n",
       "      <th>location</th>\n",
       "      <th>activity</th>\n",
       "      <th>name</th>\n",
       "      <th>age</th>\n",
       "      <th>time</th>\n",
       "      <th>species</th>\n",
       "      <th>siglo</th>\n",
       "      <th>species_</th>\n",
       "      <th>injury</th>\n",
       "      <th>mes</th>\n",
       "      <th>fatal_bien</th>\n",
       "      <th>genero_bien</th>\n",
       "    </tr>\n",
       "  </thead>\n",
       "  <tbody>\n",
       "    <tr>\n",
       "      <th>0</th>\n",
       "      <td>2018.06.25</td>\n",
       "      <td>2018.0</td>\n",
       "      <td>Boating</td>\n",
       "      <td>USA</td>\n",
       "      <td>California</td>\n",
       "      <td>Oceanside, San Diego County</td>\n",
       "      <td>Paddling</td>\n",
       "      <td>Julie Wolfe</td>\n",
       "      <td>57</td>\n",
       "      <td>18h00</td>\n",
       "      <td>White shark</td>\n",
       "      <td>siglo - XXI</td>\n",
       "      <td>NaN</td>\n",
       "      <td>No injury to occupant, outrigger canoe and pad...</td>\n",
       "      <td>Jun</td>\n",
       "      <td>N</td>\n",
       "      <td>F</td>\n",
       "    </tr>\n",
       "    <tr>\n",
       "      <th>1</th>\n",
       "      <td>2018.06.03.a</td>\n",
       "      <td>2018.0</td>\n",
       "      <td>Unprovoked</td>\n",
       "      <td>BRAZIL</td>\n",
       "      <td>Pernambuco</td>\n",
       "      <td>Piedade Beach, Recife</td>\n",
       "      <td>Swimming</td>\n",
       "      <td>Jose Ernesto da Silva</td>\n",
       "      <td>18</td>\n",
       "      <td>Late afternoon</td>\n",
       "      <td>Tiger shark</td>\n",
       "      <td>siglo - XXI</td>\n",
       "      <td>NaN</td>\n",
       "      <td>FATAL</td>\n",
       "      <td>Jun</td>\n",
       "      <td>Y</td>\n",
       "      <td>M</td>\n",
       "    </tr>\n",
       "  </tbody>\n",
       "</table>\n",
       "</div>"
      ],
      "text/plain": [
       "    case_number    year        type country        area  \\\n",
       "0    2018.06.25  2018.0     Boating     USA  California   \n",
       "1  2018.06.03.a  2018.0  Unprovoked  BRAZIL  Pernambuco   \n",
       "\n",
       "                      location  activity                    name age  \\\n",
       "0  Oceanside, San Diego County  Paddling             Julie Wolfe  57   \n",
       "1        Piedade Beach, Recife  Swimming  Jose Ernesto da Silva   18   \n",
       "\n",
       "             time      species        siglo species_  \\\n",
       "0           18h00  White shark  siglo - XXI      NaN   \n",
       "1  Late afternoon  Tiger shark  siglo - XXI      NaN   \n",
       "\n",
       "                                              injury  mes fatal_bien  \\\n",
       "0  No injury to occupant, outrigger canoe and pad...  Jun          N   \n",
       "1                                              FATAL  Jun          Y   \n",
       "\n",
       "  genero_bien  \n",
       "0           F  \n",
       "1           M  "
      ]
     },
     "execution_count": 8,
     "metadata": {},
     "output_type": "execute_result"
    }
   ],
   "source": [
    "#Delete the columns\n",
    "df_copia.drop(columnas_eliminar, axis=1, inplace=True)\n",
    "df_copia.head(2)"
   ]
  },
  {
   "cell_type": "markdown",
   "metadata": {},
   "source": [
    "2. ¿Hay valores duplicados en nuestro dataframe? En caso de que los haya, eliminándolos.\n"
   ]
  },
  {
   "cell_type": "code",
   "execution_count": 9,
   "metadata": {},
   "outputs": [
    {
     "data": {
      "text/plain": [
       "0"
      ]
     },
     "execution_count": 9,
     "metadata": {},
     "output_type": "execute_result"
    }
   ],
   "source": [
    "df_copia.duplicated().sum()"
   ]
  },
  {
   "cell_type": "markdown",
   "metadata": {},
   "source": [
    "3. Como hemos visto, algunas columnas no tienen el tipo de datos que deberían. Cambiad el tipo de dato para la columna de year.\n"
   ]
  },
  {
   "cell_type": "code",
   "execution_count": 11,
   "metadata": {},
   "outputs": [
    {
     "name": "stdout",
     "output_type": "stream",
     "text": [
      "<class 'pandas.core.frame.DataFrame'>\n",
      "RangeIndex: 1672 entries, 0 to 1671\n",
      "Data columns (total 17 columns):\n",
      " #   Column       Non-Null Count  Dtype  \n",
      "---  ------       --------------  -----  \n",
      " 0   case_number  1672 non-null   object \n",
      " 1   year         1672 non-null   float64\n",
      " 2   type         1672 non-null   object \n",
      " 3   country      1662 non-null   object \n",
      " 4   area         1626 non-null   object \n",
      " 5   location     1621 non-null   object \n",
      " 6   activity     1641 non-null   object \n",
      " 7   name         1663 non-null   object \n",
      " 8   age          1518 non-null   object \n",
      " 9   time         1512 non-null   object \n",
      " 10  species      1502 non-null   object \n",
      " 11  siglo        1502 non-null   object \n",
      " 12  species_     44 non-null     object \n",
      " 13  injury       1664 non-null   object \n",
      " 14  mes          1518 non-null   object \n",
      " 15  fatal_bien   1573 non-null   object \n",
      " 16  genero_bien  1672 non-null   object \n",
      "dtypes: float64(1), object(16)\n",
      "memory usage: 222.2+ KB\n"
     ]
    }
   ],
   "source": [
    "#Showing the information of the dataframe.\n",
    "df_copia.info()"
   ]
  },
  {
   "cell_type": "code",
   "execution_count": 12,
   "metadata": {},
   "outputs": [],
   "source": [
    "#Converting the column 'year' to an integer.\n",
    "df_copia['year']=df['year'].astype('int64', errors='ignore')"
   ]
  },
  {
   "cell_type": "code",
   "execution_count": 13,
   "metadata": {},
   "outputs": [
    {
     "name": "stdout",
     "output_type": "stream",
     "text": [
      "<class 'pandas.core.frame.DataFrame'>\n",
      "RangeIndex: 1672 entries, 0 to 1671\n",
      "Data columns (total 17 columns):\n",
      " #   Column       Non-Null Count  Dtype \n",
      "---  ------       --------------  ----- \n",
      " 0   case_number  1672 non-null   object\n",
      " 1   year         1672 non-null   int64 \n",
      " 2   type         1672 non-null   object\n",
      " 3   country      1662 non-null   object\n",
      " 4   area         1626 non-null   object\n",
      " 5   location     1621 non-null   object\n",
      " 6   activity     1641 non-null   object\n",
      " 7   name         1663 non-null   object\n",
      " 8   age          1518 non-null   object\n",
      " 9   time         1512 non-null   object\n",
      " 10  species      1502 non-null   object\n",
      " 11  siglo        1502 non-null   object\n",
      " 12  species_     44 non-null     object\n",
      " 13  injury       1664 non-null   object\n",
      " 14  mes          1518 non-null   object\n",
      " 15  fatal_bien   1573 non-null   object\n",
      " 16  genero_bien  1672 non-null   object\n",
      "dtypes: int64(1), object(16)\n",
      "memory usage: 222.2+ KB\n"
     ]
    }
   ],
   "source": [
    "#check\n",
    "df_copia.info()"
   ]
  },
  {
   "cell_type": "code",
   "execution_count": 16,
   "metadata": {},
   "outputs": [
    {
     "name": "stdout",
     "output_type": "stream",
     "text": [
      "<class 'pandas.core.frame.DataFrame'>\n",
      "RangeIndex: 1672 entries, 0 to 1671\n",
      "Data columns (total 22 columns):\n",
      " #   Column        Non-Null Count  Dtype  \n",
      "---  ------        --------------  -----  \n",
      " 0   case_number   1672 non-null   object \n",
      " 1   year          1672 non-null   float64\n",
      " 2   type          1672 non-null   object \n",
      " 3   country       1662 non-null   object \n",
      " 4   area          1626 non-null   object \n",
      " 5   location      1621 non-null   object \n",
      " 6   activity      1641 non-null   object \n",
      " 7   name          1663 non-null   object \n",
      " 8   age           1518 non-null   object \n",
      " 9   time          1512 non-null   object \n",
      " 10  species       1502 non-null   object \n",
      " 11  href          1502 non-null   object \n",
      " 12  siglo         1502 non-null   object \n",
      " 13  unnamed:_0_x  170 non-null    float64\n",
      " 14  sex_          156 non-null    object \n",
      " 15  species_      44 non-null     object \n",
      " 16  href          170 non-null    object \n",
      " 17  unnamed:_0_y  1672 non-null   int64  \n",
      " 18  injury        1664 non-null   object \n",
      " 19  mes           1518 non-null   object \n",
      " 20  fatal_bien    1573 non-null   object \n",
      " 21  genero_bien   1672 non-null   object \n",
      "dtypes: float64(2), int64(1), object(19)\n",
      "memory usage: 287.5+ KB\n"
     ]
    }
   ],
   "source": [
    "\n",
    "df['age']=df['age'].astype('int64', errors='ignore')\n",
    "df.info()"
   ]
  },
  {
   "cell_type": "markdown",
   "metadata": {},
   "source": [
    "4. En la columna de country poner todos los valores en minúsculas.\n",
    "💡 Pista Tendréis que usar una función o una lambda 💡\n"
   ]
  },
  {
   "cell_type": "code",
   "execution_count": 17,
   "metadata": {},
   "outputs": [],
   "source": [
    "#function that converts a string to lowercase.\n",
    "def minusculas(x):\n",
    "    try:\n",
    "        if isinstance(x,str): #buscado en pep8\n",
    "                return x.lower()\n",
    "        else:\n",
    "            return x\n",
    "    except:\n",
    "        return x"
   ]
  },
  {
   "cell_type": "code",
   "execution_count": 19,
   "metadata": {},
   "outputs": [],
   "source": [
    "#Applying the function minusculas to the column country.\n",
    "df['country']= df['country'].apply(minusculas)"
   ]
  },
  {
   "cell_type": "markdown",
   "metadata": {},
   "source": []
  },
  {
   "cell_type": "markdown",
   "metadata": {},
   "source": [
    "\n",
    "5. Guardamos el csv para seguir trabajando en el siguiente ejercicio de pair de limpieza."
   ]
  }
 ],
 "metadata": {
  "kernelspec": {
   "display_name": "Python 3.9.7 ('base')",
   "language": "python",
   "name": "python3"
  },
  "language_info": {
   "codemirror_mode": {
    "name": "ipython",
    "version": 3
   },
   "file_extension": ".py",
   "mimetype": "text/x-python",
   "name": "python",
   "nbconvert_exporter": "python",
   "pygments_lexer": "ipython3",
   "version": "3.9.7"
  },
  "orig_nbformat": 4,
  "vscode": {
   "interpreter": {
    "hash": "e52e54b208979dc3580fb1371da7079de391a2363b0575de5d9739fd636c0787"
   }
  }
 },
 "nbformat": 4,
 "nbformat_minor": 2
}
